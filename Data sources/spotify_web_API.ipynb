{
 "cells": [
  {
   "cell_type": "code",
   "execution_count": 2,
   "metadata": {},
   "outputs": [],
   "source": [
    "#Dependencies\n",
    "\n",
    "import spotipy\n",
    "from spotipy.oauth2 import SpotifyClientCredentials\n",
    "\n",
    "from keys import client_id, client_secret\n"
   ]
  },
  {
   "cell_type": "code",
   "execution_count": 3,
   "metadata": {},
   "outputs": [],
   "source": [
    "scope = \"user-library-read\""
   ]
  },
  {
   "cell_type": "code",
   "execution_count": 4,
   "metadata": {},
   "outputs": [],
   "source": [
    "sp = spotipy.Spotify(client_credentials_manager=SpotifyClientCredentials(client_id=client_id, client_secret=client_secret))"
   ]
  },
  {
   "cell_type": "code",
   "execution_count": 5,
   "metadata": {},
   "outputs": [
    {
     "name": "stdout",
     "output_type": "stream",
     "text": [
      "ALBUM: 1989\n",
      "ALBUM: 1989 (Big Machine Radio Release Special)\n",
      "ALBUM: 1989 (Deluxe Edition)\n",
      "ALBUM: 1989 (Deluxe)\n",
      "ALBUM: evermore\n",
      "ALBUM: evermore (deluxe version)\n",
      "ALBUM: Fearless\n",
      "ALBUM: Fearless (Big Machine Radio Release Special)\n",
      "ALBUM: Fearless (International Version)\n",
      "ALBUM: Fearless (Karaoke Version)\n",
      "ALBUM: Fearless (Platinum Edition)\n",
      "ALBUM: Fearless (Taylor's Version)\n",
      "ALBUM: Fearless Karaoke\n",
      "ALBUM: Fearless Platinum Edition\n",
      "ALBUM: folklore\n",
      "ALBUM: folklore (deluxe version)\n",
      "ALBUM: folklore: the long pond studio sessions (from the Disney+ special) [deluxe edition]\n",
      "ALBUM: Live From Clear Channel Stripped 2008\n",
      "ALBUM: Lover\n",
      "ALBUM: Red\n",
      "ALBUM: Red (Big Machine Radio Release Special)\n",
      "ALBUM: Red (Deluxe Edition)\n",
      "ALBUM: Red (Karaoke Version)\n",
      "ALBUM: Red (Taylor's Version)\n",
      "ALBUM: reputation\n",
      "ALBUM: reputation (Big Machine Radio Release Special)\n",
      "ALBUM: reputation Stadium Tour Surprise Song Playlist\n",
      "ALBUM: Speak Now\n",
      "ALBUM: Speak Now (Big Machine Radio Release Special)\n",
      "ALBUM: Speak Now (Deluxe Edition)\n",
      "ALBUM: Speak Now (Deluxe Package)\n",
      "ALBUM: Speak Now (Japanese Version)\n",
      "ALBUM: Speak Now (Karaoke Version)\n",
      "ALBUM: Speak Now (US Version)\n",
      "ALBUM: Speak Now World Tour Live\n",
      "ALBUM: Taylor Swift\n",
      "ALBUM: Taylor Swift (Big Machine Radio Release Special)\n",
      "ALBUM: Taylor Swift (Karaoke Version)\n",
      "ALBUM: Taylor Swift Karaoke\n",
      "ALBUM: Taylor Swift Karaoke: 1989\n",
      "ALBUM: Taylor Swift Karaoke: 1989 (Deluxe Edition)\n",
      "ALBUM: Taylor Swift Karaoke: 1989 (Deluxe)\n",
      "ALBUM: Taylor Swift Karaoke: Red\n",
      "ALBUM: Taylor Swift Karaoke: reputation\n",
      "ALBUM: Taylor Swift Karaoke: Speak Now\n"
     ]
    }
   ],
   "source": [
    "def get_artist(name):\n",
    "    results = sp.search(q='artist:' + name, type='artist')\n",
    "    items = results['artists']['items']\n",
    "    if len(items) > 0:\n",
    "        return items[0]\n",
    "    else:\n",
    "        return None\n",
    "\n",
    "\n",
    "def show_artist_albums(artist):\n",
    "    albums = []\n",
    "    results = sp.artist_albums(artist['id'], album_type='album')\n",
    "    albums.extend(results['items'])\n",
    "    while results['next']:\n",
    "        results = sp.next(results)\n",
    "        albums.extend(results['items'])\n",
    "    seen = set()  # to avoid dups\n",
    "    albums.sort(key=lambda album: album['name'].lower())\n",
    "    for album in albums:\n",
    "        name = album['name']\n",
    "        if name not in seen:\n",
    "            print(f'ALBUM: {name}')\n",
    "            seen.add(name)\n",
    "\n",
    "\n",
    "artist = get_artist(\"Taylor Swift\")\n",
    "if artist:\n",
    "    show_artist_albums(artist)\n",
    "else:\n",
    "    print(\"Can't find artist: %s\", artist)"
   ]
  },
  {
   "cell_type": "code",
   "execution_count": null,
   "metadata": {},
   "outputs": [],
   "source": []
  },
  {
   "cell_type": "code",
   "execution_count": null,
   "metadata": {},
   "outputs": [],
   "source": []
  },
  {
   "cell_type": "code",
   "execution_count": null,
   "metadata": {},
   "outputs": [],
   "source": []
  },
  {
   "cell_type": "code",
   "execution_count": null,
   "metadata": {},
   "outputs": [],
   "source": []
  }
 ],
 "metadata": {
  "kernelspec": {
   "display_name": "Python 3 (ipykernel)",
   "language": "python",
   "name": "python3"
  },
  "language_info": {
   "codemirror_mode": {
    "name": "ipython",
    "version": 3
   },
   "file_extension": ".py",
   "mimetype": "text/x-python",
   "name": "python",
   "nbconvert_exporter": "python",
   "pygments_lexer": "ipython3",
   "version": "3.7.11"
  }
 },
 "nbformat": 4,
 "nbformat_minor": 2
}
